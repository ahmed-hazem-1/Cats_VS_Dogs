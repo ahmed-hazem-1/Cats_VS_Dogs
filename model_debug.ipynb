{
 "cells": [
  {
   "cell_type": "markdown",
   "id": "6b148906",
   "metadata": {},
   "source": [
    "# Cat vs Dog Classifier - Model Debugging\n",
    "\n",
    "This notebook is designed to help diagnose issues with the cat vs dog classification model that's consistently predicting the same class regardless of the input image."
   ]
  },
  {
   "cell_type": "code",
   "execution_count": null,
   "id": "9164c399",
   "metadata": {},
   "outputs": [],
   "source": [
    "# Import the necessary libraries\n",
    "import tensorflow as tf\n",
    "import numpy as np\n",
    "from PIL import Image\n",
    "import matplotlib.pyplot as plt\n",
    "import os\n",
    "\n",
    "# Configure TensorFlow\n",
    "gpus = tf.config.experimental.list_physical_devices('GPU')\n",
    "if gpus:\n",
    "    for gpu in gpus:\n",
    "        tf.config.experimental.set_memory_growth(gpu, True)"
   ]
  },
  {
   "cell_type": "markdown",
   "id": "4eb0fb8d",
   "metadata": {},
   "source": [
    "## 1. Load the Model\n",
    "\n",
    "Let's first load the model and inspect its architecture"
   ]
  },
  {
   "cell_type": "code",
   "execution_count": null,
   "id": "eabd9c56",
   "metadata": {},
   "outputs": [],
   "source": [
    "# Load the model\n",
    "model = tf.keras.models.load_model('model_v2.h5')\n",
    "\n",
    "# Display model summary\n",
    "model.summary()"
   ]
  },
  {
   "cell_type": "markdown",
   "id": "c5eb7e71",
   "metadata": {},
   "source": [
    "## 2. Check the Model's Output Layer\n",
    "\n",
    "Let's examine the output layer to confirm how many classes it's predicting and what activation function it uses"
   ]
  },
  {
   "cell_type": "code",
   "execution_count": null,
   "id": "cf2320a3",
   "metadata": {},
   "outputs": [],
   "source": [
    "# Get the last layer\n",
    "output_layer = model.layers[-1]\n",
    "print(f\"Output layer: {output_layer}\")\n",
    "print(f\"Output layer activation: {output_layer.activation.__name__ if hasattr(output_layer, 'activation') else 'No activation'}\")\n",
    "print(f\"Output layer units: {output_layer.units if hasattr(output_layer, 'units') else 'Unknown'}\")"
   ]
  },
  {
   "cell_type": "markdown",
   "id": "bd18f476",
   "metadata": {},
   "source": [
    "## 3. Test with Sample Images\n",
    "\n",
    "Let's test the model with known cat and dog images to see how it's behaving"
   ]
  },
  {
   "cell_type": "code",
   "execution_count": null,
   "id": "3d49835f",
   "metadata": {},
   "outputs": [],
   "source": [
    "def preprocess_image(image_path):\n",
    "    \"\"\"Preprocess an image for model prediction\"\"\"\n",
    "    # Open and convert to RGB\n",
    "    img = Image.open(image_path).convert('RGB')\n",
    "    # Resize to 128x128\n",
    "    img = img.resize((128, 128))\n",
    "    # Convert to numpy array\n",
    "    img_array = np.array(img)\n",
    "    # Normalize pixel values\n",
    "    img_array = img_array.astype('float32') / 255.0\n",
    "    # Reshape for model input\n",
    "    img_array = np.reshape(img_array, (1, 128, 128, 3))\n",
    "    return img_array, img\n",
    "\n",
    "def predict_and_display(image_path):\n",
    "    \"\"\"Make a prediction on an image and display the results\"\"\"\n",
    "    # Preprocess image\n",
    "    processed_img, original_img = preprocess_image(image_path)\n",
    "    \n",
    "    # Make prediction\n",
    "    prediction = model.predict(processed_img)\n",
    "    \n",
    "    # Get class probabilities\n",
    "    class_0_prob = prediction[0][0]\n",
    "    class_1_prob = prediction[0][1] if prediction.shape[1] > 1 else 1 - prediction[0][0]\n",
    "    \n",
    "    # Display results\n",
    "    plt.figure(figsize=(10, 5))\n",
    "    \n",
    "    plt.subplot(1, 2, 1)\n",
    "    plt.imshow(original_img)\n",
    "    plt.title(f\"Image: {os.path.basename(image_path)}\")\n",
    "    plt.axis('off')\n",
    "    \n",
    "    plt.subplot(1, 2, 2)\n",
    "    labels = ['Class 0 (Cat)', 'Class 1 (Dog)']\n",
    "    values = [class_0_prob, class_1_prob]\n",
    "    \n",
    "    plt.bar(labels, values)\n",
    "    plt.title(\"Prediction Probabilities\")\n",
    "    plt.ylim(0, 1)\n",
    "    \n",
    "    plt.tight_layout()\n",
    "    plt.show()\n",
    "    \n",
    "    # Print numerical results\n",
    "    print(f\"Raw prediction: {prediction}\")\n",
    "    print(f\"Class 0 (Cat) probability: {class_0_prob:.4f}\")\n",
    "    print(f\"Class 1 (Dog) probability: {class_1_prob:.4f}\")\n",
    "    print(f\"Predicted class: {'Cat' if class_0_prob > class_1_prob else 'Dog'}\")\n",
    "    print(\"-\" * 50)\n",
    "\n",
    "# Test with sample images (replace these paths with actual images)\n",
    "# test_paths = [\"path_to_cat_image.jpg\", \"path_to_dog_image.jpg\"]\n",
    "# for path in test_paths:\n",
    "#     predict_and_display(path)"
   ]
  },
  {
   "cell_type": "markdown",
   "id": "a7977a7d",
   "metadata": {},
   "source": [
    "## 4. Check Model's Class Indices\n",
    "\n",
    "Let's verify the mapping between class indices and actual classes (cat/dog)"
   ]
  },
  {
   "cell_type": "code",
   "execution_count": null,
   "id": "47dedb08",
   "metadata": {},
   "outputs": [],
   "source": [
    "# Try to load class indices if available\n",
    "try:\n",
    "    class_indices = model.class_indices\n",
    "    print(\"Class indices:\", class_indices)\n",
    "except AttributeError:\n",
    "    print(\"Model doesn't have class_indices attribute. This is common for models not created with ImageDataGenerator.\")\n",
    "    \n",
    "    # Alternative: check if there's a separate file with class indices\n",
    "    if os.path.exists('class_indices.npy'):\n",
    "        class_indices = np.load('class_indices.npy', allow_pickle=True).item()\n",
    "        print(\"Class indices loaded from file:\", class_indices)\n",
    "    else:\n",
    "        print(\"No class indices information found.\")\n",
    "        print(\"Assuming binary classification with:\")\n",
    "        print(\"Index 0 = Cat\")\n",
    "        print(\"Index 1 = Dog\")"
   ]
  },
  {
   "cell_type": "markdown",
   "id": "4db1bed4",
   "metadata": {},
   "source": [
    "## 5. Model Fix (if needed)\n",
    "\n",
    "Based on debugging results, we might need to modify how we interpret the model's output"
   ]
  },
  {
   "cell_type": "code",
   "execution_count": null,
   "id": "d25bbef2",
   "metadata": {},
   "outputs": [],
   "source": [
    "# Test a fix by updating the interpretation of outputs\n",
    "def fixed_prediction(image_path, swap_indices=False):\n",
    "    \"\"\"Make prediction with potentially fixed interpretation\"\"\"\n",
    "    # Preprocess image\n",
    "    processed_img, original_img = preprocess_image(image_path)\n",
    "    \n",
    "    # Make prediction\n",
    "    prediction = model.predict(processed_img)\n",
    "    \n",
    "    # Get probabilities (potentially swapped)\n",
    "    if swap_indices:\n",
    "        cat_prob = prediction[0][1]  # Swapped - index 1 is cat\n",
    "        dog_prob = prediction[0][0]  # Swapped - index 0 is dog\n",
    "    else:\n",
    "        cat_prob = prediction[0][0]  # Original - index 0 is cat\n",
    "        dog_prob = prediction[0][1]  # Original - index 1 is dog\n",
    "    \n",
    "    # Print result\n",
    "    result = \"Cat\" if cat_prob > dog_prob else \"Dog\"\n",
    "    print(f\"Image: {os.path.basename(image_path)}\")\n",
    "    print(f\"Prediction: {result} (Cat: {cat_prob:.4f}, Dog: {dog_prob:.4f})\")\n",
    "    return result\n",
    "\n",
    "# Example of testing with both interpretations\n",
    "# image_path = \"path_to_known_cat_image.jpg\"\n",
    "# print(\"Original interpretation:\")\n",
    "# fixed_prediction(image_path, swap_indices=False)\n",
    "# print(\"\\nSwapped interpretation:\")\n",
    "# fixed_prediction(image_path, swap_indices=True)"
   ]
  },
  {
   "cell_type": "markdown",
   "id": "070e01f6",
   "metadata": {},
   "source": [
    "## 6. Updated App.py Code\n",
    "\n",
    "Based on the debugging results, here's an updated version of the prediction code for app.py"
   ]
  },
  {
   "cell_type": "code",
   "execution_count": null,
   "id": "ca313e63",
   "metadata": {},
   "outputs": [],
   "source": [
    "\"\"\"\n",
    "# Code to update in app.py after determining correct class indices:\n",
    "\n",
    "try:\n",
    "    prediction = model.predict(processed_image)\n",
    "    \n",
    "    # Based on debugging results, use correct interpretation\n",
    "    # Option 1: If original interpretation was correct\n",
    "    cat_probability = float(prediction[0][0])\n",
    "    dog_probability = float(prediction[0][1])\n",
    "    \n",
    "    # Option 2: If indices need to be swapped\n",
    "    # cat_probability = float(prediction[0][1])\n",
    "    # dog_probability = float(prediction[0][0])\n",
    "    \n",
    "    # Display results\n",
    "    if dog_probability > cat_probability:\n",
    "        result = f\"Dog (Confidence: {dog_probability:.2%})\"\n",
    "        st.success(result)\n",
    "    else:\n",
    "        result = f\"Cat (Confidence: {cat_probability:.2%})\"\n",
    "        st.success(result)\n",
    "\"\"\""
   ]
  }
 ],
 "metadata": {
  "language_info": {
   "name": "python"
  }
 },
 "nbformat": 4,
 "nbformat_minor": 5
}
